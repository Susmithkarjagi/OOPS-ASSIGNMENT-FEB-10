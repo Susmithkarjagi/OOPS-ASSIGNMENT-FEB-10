{
 "cells": [
  {
   "cell_type": "markdown",
   "id": "61a83083-1f87-4763-93ce-2008a72e3386",
   "metadata": {},
   "source": [
    "### OOPS ASSIGNMENT FEB 10 2023"
   ]
  },
  {
   "cell_type": "markdown",
   "id": "97000d55-f550-4e7c-885a-276040f23c78",
   "metadata": {},
   "source": [
    "Q1. Which function is used to open a file? What are the different modes of opening a file? Explain each mode\n",
    "of file opening."
   ]
  },
  {
   "cell_type": "markdown",
   "id": "d5de2636-38dd-489d-b05b-5da4ccacfb69",
   "metadata": {},
   "source": [
    "#ANSWER 1"
   ]
  },
  {
   "cell_type": "markdown",
   "id": "f9dc7446-f802-464a-8651-6b54b35a3d90",
   "metadata": {},
   "source": [
    "In Python, the open() function is used to open a file. The open() function returns a file object, which can be used to read, write, or manipulate the file.\n",
    "\n",
    "The open() function takes two arguments: the file path and the mode in which the file should be opened. The mode argument is optional and if it is not specified, the file will be opened in read-only mode by default.\n",
    "\n",
    "There are several modes in which a file can be opened, including:\n",
    "\n",
    "'r': Read mode (default). The file is opened for reading, and the file pointer is placed at the beginning of the file.\n",
    "\n",
    "'w': Write mode. The file is opened for writing, and if the file already exists, its contents are truncated. If the file does not exist, a new file is created.\n",
    "\n",
    "'a': Append mode. The file is opened for writing, and if the file already exists, new data is appended to the end of the file. If the file does not exist, a new file is created.\n",
    "\n",
    "'x': Exclusive creation mode. The file is opened for writing, but only if the file does not already exist. If the file already exists, an error is raised.\n",
    "\n",
    "'b': Binary mode. The file is opened in binary mode, which allows reading and writing of binary data (such as images or executable files).\n",
    "\n",
    "'t': Text mode (default). The file is opened in text mode, which allows reading and writing of text data (such as strings)"
   ]
  },
  {
   "cell_type": "markdown",
   "id": "7729e193-b2c3-4fe5-9007-674fab93f70b",
   "metadata": {},
   "source": [
    "Q2. Why close() function is used? Why is it important to close a file?"
   ]
  },
  {
   "cell_type": "markdown",
   "id": "d327709f-dcfa-49a6-9cdc-cec9b4c07bbe",
   "metadata": {},
   "source": [
    "#ANSWER 2"
   ]
  },
  {
   "cell_type": "markdown",
   "id": "c11dab00-8320-4435-b659-bfcefe5cc12b",
   "metadata": {},
   "source": [
    "In Python, the close() function is used to close a file that was previously opened using the open() function. The close() function releases the resources used by the file object, such as file descriptors, which are limited system resources.\n",
    "\n",
    "It is important to close a file using the close() function after you have finished working with it, for several reasons:\n",
    "\n",
    "Resource management: When a file is opened, system resources are allocated to it. If you don't close the file, those resources will remain allocated, even if you don't need them anymore. This can lead to resource exhaustion, which can cause errors in your program or even crash it.\n",
    "\n",
    "Data consistency: When you write data to a file, it may not be immediately saved to disk. Instead, the data may be buffered in memory for efficiency. When you close the file, any buffered data is written to disk, ensuring that the file is up to date and consistent.\n",
    "\n",
    "Security: If you have opened a file with write access, other programs may not be able to access it until you close it. This can prevent data corruption or security breaches.\n",
    "\n",
    "Portability: Some operating systems may not allow you to delete or move a file that is still open. Closing the file before you try to perform these operations can prevent errors or unexpected behavior.\n",
    "\n",
    "In summary, closing a file using the close() function is an important step in proper file management, as it releases system resources, ensures data consistency, improves security, and promotes portability."
   ]
  },
  {
   "cell_type": "markdown",
   "id": "fffe259e-bbdc-4490-aec0-29951ce62aa6",
   "metadata": {},
   "source": [
    "Q3. Write a python program to create a text file. Write ‘I want to become a Data Scientist’ in that file. Then\n",
    "close the file. Open this file and read the content of the file."
   ]
  },
  {
   "cell_type": "markdown",
   "id": "b8c8d210-8ddf-4312-a27d-da1c294c86a9",
   "metadata": {},
   "source": [
    "#ANSWER 3"
   ]
  },
  {
   "cell_type": "code",
   "execution_count": 13,
   "id": "1f2412d1-938d-411f-97c2-4b514e2c37f1",
   "metadata": {},
   "outputs": [],
   "source": [
    " f = open(\"pwskills.txt\" , \"w\")"
   ]
  },
  {
   "cell_type": "code",
   "execution_count": 14,
   "id": "98f2aed1-2f71-493b-b44a-836cb57f0cbc",
   "metadata": {},
   "outputs": [
    {
     "data": {
      "text/plain": [
       "33"
      ]
     },
     "execution_count": 14,
     "metadata": {},
     "output_type": "execute_result"
    }
   ],
   "source": [
    "f.write(\"I want to become a Data scientist\")"
   ]
  },
  {
   "cell_type": "code",
   "execution_count": 16,
   "id": "3ff6b6ec-99d2-4679-98b1-91e27778c369",
   "metadata": {},
   "outputs": [],
   "source": [
    "f.close()"
   ]
  },
  {
   "cell_type": "code",
   "execution_count": 18,
   "id": "2e586d5d-f8b5-457e-ac52-e78cf28da431",
   "metadata": {},
   "outputs": [],
   "source": [
    "data = open(\"pwskills.txt\",\"r\")"
   ]
  },
  {
   "cell_type": "code",
   "execution_count": 19,
   "id": "b50e5d52-3251-4eea-b3d6-0aba5ffe8c7d",
   "metadata": {},
   "outputs": [
    {
     "data": {
      "text/plain": [
       "'I want to become a Data scientist'"
      ]
     },
     "execution_count": 19,
     "metadata": {},
     "output_type": "execute_result"
    }
   ],
   "source": [
    "data.read()"
   ]
  },
  {
   "cell_type": "markdown",
   "id": "3abc61ef-ba19-4aea-961a-0580329a5870",
   "metadata": {},
   "source": [
    "Q4. Explain the following with python code: read(), readline() and readlines()."
   ]
  },
  {
   "cell_type": "markdown",
   "id": "e7a5b9c7-2dca-45ef-bc1c-09be334995c5",
   "metadata": {},
   "source": [
    "In Python, there are several methods that can be used to read data from a file, including read(), readline(), and readlines(). Here's a brief explanation of each method and an example of how to use them:\n",
    "\n",
    "1.read(): The read() method is used to read the entire contents of a file as a single string. The syntax for read() is as follows:"
   ]
  },
  {
   "cell_type": "code",
   "execution_count": null,
   "id": "a0bd09b6-fd1d-44e6-a537-ca76e6dd5829",
   "metadata": {},
   "outputs": [],
   "source": [
    "with open('filename.txt', 'r') as file:\n",
    "    data = file.read()\n"
   ]
  },
  {
   "cell_type": "markdown",
   "id": "c13ef35d-8184-477c-87c9-e0a8d4f6230e",
   "metadata": {},
   "source": [
    "In this example, the file 'filename.txt' is opened in read mode, and its contents are read into the variable data using the read() method. The with statement is used to ensure that the file is automatically closed when the block of code is finished executing."
   ]
  },
  {
   "cell_type": "markdown",
   "id": "a850c49a-94f5-4757-b1d6-c3a1644a6240",
   "metadata": {},
   "source": [
    "2.readline(): The readline() method is used to read a single line of a file. The syntax for readline() is as follows:"
   ]
  },
  {
   "cell_type": "code",
   "execution_count": null,
   "id": "293afc99-18d1-43a8-a970-a1e015de71d5",
   "metadata": {},
   "outputs": [],
   "source": [
    "with open('filename.txt', 'r') as file:\n",
    "    line = file.readline()\n"
   ]
  },
  {
   "cell_type": "markdown",
   "id": "5d4d28e5-2543-4b4a-b16d-790f1be55303",
   "metadata": {},
   "source": [
    "In this example, the file 'filename.txt' is opened in read mode, and the first line of the file is read into the variable line using the readline() method.\n",
    "\n",
    "Note that if you call readline() again, it will read the next line of the file, and so on, until the end of the file is reached."
   ]
  },
  {
   "cell_type": "markdown",
   "id": "b8306a15-2a0f-4652-b082-88cbce8cda52",
   "metadata": {},
   "source": [
    "3.readlines(): The readlines() method is used to read all the lines of a file into a list. The syntax for readlines() is as follows:"
   ]
  },
  {
   "cell_type": "code",
   "execution_count": null,
   "id": "e18a4d80-b50f-4ce4-a683-9e74a8034850",
   "metadata": {},
   "outputs": [],
   "source": [
    "with open('filename.txt', 'r') as file:\n",
    "    lines = file.readlines()\n"
   ]
  },
  {
   "cell_type": "markdown",
   "id": "6cd9c7e6-a75c-43af-b442-43a4bbd823dd",
   "metadata": {},
   "source": [
    "In this example, the file 'filename.txt' is opened in read mode, and all the lines of the file are read into the list lines using the readlines() method."
   ]
  },
  {
   "cell_type": "markdown",
   "id": "0ae17862-f98b-4e3d-b52b-5d218fa5a51b",
   "metadata": {},
   "source": [
    "Q5. Explain why with statement is used with open(). What is the advantage of using with statement and\n",
    "open() together?"
   ]
  },
  {
   "cell_type": "markdown",
   "id": "2cb149ae-2395-4d9f-81e0-f56ddc2476ce",
   "metadata": {},
   "source": [
    "#ANSWER 5"
   ]
  },
  {
   "cell_type": "markdown",
   "id": "7fea8e5e-16a9-4ee9-8bb1-c8b17218342b",
   "metadata": {},
   "source": [
    "In Python, the with statement is used with the open() function to provide a convenient way to work with files. The with statement ensures that the file is properly closed after its suite (block of code) finishes, even if an error occurs. This is done by automatically calling the close() method of the file object, so you don't have to remember to do it yourself.\n",
    "\n",
    "The advantage of using the with statement and open() together is that it simplifies the code for opening and closing files, making it easier to read and less error-prone. It also makes the code more efficient, as it releases the resources used by the file object as soon as possible."
   ]
  },
  {
   "cell_type": "markdown",
   "id": "b31a4d57-0ce9-4547-8f09-dcf72b27fa78",
   "metadata": {},
   "source": [
    "Q6. Explain the write() and writelines() functions. Give a suitable example."
   ]
  },
  {
   "cell_type": "markdown",
   "id": "f48dac4a-6433-4bf5-bf96-d9bd823efde6",
   "metadata": {},
   "source": [
    "#ANSWER 6"
   ]
  },
  {
   "cell_type": "markdown",
   "id": "19a6d4ce-009b-4b8f-890a-6f5f3d794b1f",
   "metadata": {},
   "source": [
    "In Python, the write() and writelines() functions are used to write data to a file. Here's a brief explanation of each function and an example of how to use them:\n",
    "\n",
    "write(): The write() function is used to write a string to a file. The syntax for write() is as follows:"
   ]
  },
  {
   "cell_type": "code",
   "execution_count": null,
   "id": "fcde1688-bb1a-47ce-8083-ada29b4412ee",
   "metadata": {},
   "outputs": [],
   "source": [
    "with open('filename.txt', 'w') as file:\n",
    "    file.write('Hello, sushmit\\n')\n"
   ]
  },
  {
   "cell_type": "markdown",
   "id": "3e4d8c94-1630-4287-9808-37e84353e5ff",
   "metadata": {},
   "source": [
    "n this example, the file 'filename.txt' is opened in write mode using the open() function, and the string 'Hello, world!\\n' is written to the file using the write() method. Note that the write() method does not automatically add a newline character at the end of the string, so we need to add it ourselves.\n",
    "\n",
    "If you call write() again, it will write the string to the file starting at the end of the last string written."
   ]
  },
  {
   "cell_type": "markdown",
   "id": "d1c66fe8-5bdd-4b0f-847b-0890d4abd5ac",
   "metadata": {},
   "source": [
    "writelines(): The writelines() function is used to write a list of strings to a file. The syntax for writelines() is as follows:"
   ]
  },
  {
   "cell_type": "code",
   "execution_count": null,
   "id": "e0031228-7b34-4c0d-9f52-30cf6a900418",
   "metadata": {},
   "outputs": [],
   "source": [
    "with open('filename.txt', 'w') as file:\n",
    "    lines = ['Hello, sushmith!\\n', 'This is a test.\\n']\n",
    "    file.writelines(lines)\n"
   ]
  },
  {
   "cell_type": "markdown",
   "id": "5ea01b9d-ea60-4a64-8829-a1f7b5204531",
   "metadata": {},
   "source": [
    "In this example, the file 'filename.txt' is opened in write mode using the open() function, and the list of strings lines is written to the file using the writelines() method. Note that the writelines() method does not automatically add newline characters between the strings, so we need to include them in the strings themselves.\n",
    "\n",
    "If you call writelines() again with a new list of strings, it will write the new list to the file starting at the end of the last list written."
   ]
  },
  {
   "cell_type": "markdown",
   "id": "2dfdda22-b926-4e1c-9eab-68953a266d93",
   "metadata": {},
   "source": [
    "example:"
   ]
  },
  {
   "cell_type": "code",
   "execution_count": 4,
   "id": "688c6800-ecfb-43a4-8b75-c44991456dea",
   "metadata": {},
   "outputs": [
    {
     "name": "stdout",
     "output_type": "stream",
     "text": [
      "Hello, sushmit!\n",
      "This is a test.\n",
      "How are you?\n",
      "\n"
     ]
    }
   ],
   "source": [
    "with open('filename.txt', 'w') as file:\n",
    "    file.write('Hello, sushmit!\\n')\n",
    "    lines = ['This is a test.\\n', 'How are you?\\n']\n",
    "    file.writelines(lines)\n",
    "\n",
    "with open('filename.txt', 'r') as file:\n",
    "    data = file.read()\n",
    "    print(data)\n"
   ]
  }
 ],
 "metadata": {
  "kernelspec": {
   "display_name": "Python 3 (ipykernel)",
   "language": "python",
   "name": "python3"
  },
  "language_info": {
   "codemirror_mode": {
    "name": "ipython",
    "version": 3
   },
   "file_extension": ".py",
   "mimetype": "text/x-python",
   "name": "python",
   "nbconvert_exporter": "python",
   "pygments_lexer": "ipython3",
   "version": "3.10.8"
  }
 },
 "nbformat": 4,
 "nbformat_minor": 5
}
